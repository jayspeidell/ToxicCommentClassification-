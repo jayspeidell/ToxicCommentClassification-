{
 "cells": [
  {
   "cell_type": "markdown",
   "metadata": {
    "colab_type": "text",
    "id": "kaYNMVqj5yxo"
   },
   "source": [
    "## Preface\n",
    "\n",
    "This is an analysis of Wikipedia comments to create models that identify various types of toxic comments. There is a lot of racist content and swear words in the dataset and some of it will pop up in the analysis. "
   ]
  },
  {
   "cell_type": "code",
   "execution_count": 7,
   "metadata": {
    "colab": {
     "autoexec": {
      "startup": false,
      "wait_interval": 0
     },
     "base_uri": "https://localhost:8080/",
     "height": 920,
     "output_extras": [
      {
       "item_id": 23
      }
     ]
    },
    "colab_type": "code",
    "executionInfo": {
     "elapsed": 32492,
     "status": "ok",
     "timestamp": 1522886463906,
     "user": {
      "displayName": "Jay Speidell",
      "photoUrl": "//lh6.googleusercontent.com/-PA283dAAXaQ/AAAAAAAAAAI/AAAAAAAAGng/nfaP1-4Q3qM/s50-c-k-no/photo.jpg",
      "userId": "112011094715710279880"
     },
     "user_tz": 420
    },
    "id": "It7csY1f5yxs",
    "outputId": "a415ec57-e23e-4d58-b3bf-b46882562dbc"
   },
   "outputs": [],
   "source": [
    "import pandas as pd\n",
    "import pickle\n",
    "import numpy as np\n",
    "import nltk\n",
    "from nltk.corpus import stopwords\n",
    "import keras\n",
    "import time\n",
    "import matplotlib.pyplot as plt\n",
    "import seaborn as sns\n",
    "import re\n",
    "import string\n",
    "from collections import namedtuple\n",
    "from sklearn.preprocessing import StandardScaler\n",
    "from sklearn.model_selection import cross_val_score\n",
    "from sklearn.model_selection import StratifiedKFold\n",
    "from sklearn.model_selection import train_test_split \n",
    "from sklearn.metrics import f1_score\n",
    "from sklearn.feature_extraction.text import TfidfVectorizer\n",
    "from scipy import sparse\n",
    "from sklearn.pipeline import make_union\n",
    "from sklearn.svm import LinearSVC\n",
    "from sklearn.naive_bayes import MultinomialNB\n",
    "from sklearn.linear_model import LogisticRegression\n",
    "import lightgbm as lgb\n",
    "from sklearn.metrics import confusion_matrix"
   ]
  },
  {
   "cell_type": "code",
   "execution_count": 8,
   "metadata": {},
   "outputs": [],
   "source": [
    "# Global random state and k-fold strategy \n",
    "seed = 42\n",
    "k = 5\n",
    "cv = StratifiedKFold(n_splits=k, random_state=seed)"
   ]
  },
  {
   "cell_type": "code",
   "execution_count": 9,
   "metadata": {},
   "outputs": [],
   "source": [
    "def lgb_f1_score(y_hat, data):\n",
    "    # https://stackoverflow.com/questions/49774825/python-lightgbm-cross-validation-how-to-use-lightgbm-cv-for-regression\n",
    "    y_true = data.get_label()\n",
    "    y_hat = np.round(y_hat) \n",
    "    return 'f1', f1_score(y_true, y_hat), True"
   ]
  },
  {
   "cell_type": "code",
   "execution_count": 10,
   "metadata": {
    "colab": {
     "autoexec": {
      "startup": false,
      "wait_interval": 0
     }
    },
    "colab_type": "code",
    "id": "keYiW4Ws5yx2"
   },
   "outputs": [],
   "source": [
    "start = time.time()\n",
    "def print_time(start):\n",
    "    time_now = time.time() - start \n",
    "    minutes = int(time_now / 60)\n",
    "    seconds = int(time_now % 60)\n",
    "    if seconds < 10:\n",
    "        print('Elapsed time was %d:0%d.' % (minutes, seconds))\n",
    "    else:\n",
    "        print('Elapsed time was %d:%d.' % (minutes, seconds))"
   ]
  },
  {
   "cell_type": "markdown",
   "metadata": {},
   "source": [
    "## Feature Engineering "
   ]
  },
  {
   "cell_type": "code",
   "execution_count": 11,
   "metadata": {},
   "outputs": [],
   "source": [
    "def feature_engineering(df, sparse=0): \n",
    "    \n",
    "    # Comment length\n",
    "    df['length'] = df.comment_text.apply(lambda x: len(x))\n",
    "    \n",
    "\n",
    "    # Capitalization percentage\n",
    "    def pct_caps(s):\n",
    "        return sum([1 for c in s if c.isupper()]) / (sum(([1 for c in s if c.isalpha()])) + 1)\n",
    "    df['caps'] = df.comment_text.apply(lambda x: pct_caps(x))\n",
    "\n",
    "    # Mean Word length \n",
    "    def word_length(s):\n",
    "        s = s.split(' ')\n",
    "        return np.mean([len(w) for w in s if w.isalpha()])\n",
    "    df['word_length'] = df.comment_text.apply(lambda x: word_length(x))\n",
    "\n",
    "    # Average number of exclamation points \n",
    "    df['exclamation'] = df.comment_text.apply(lambda s: len([c for c in s if c == '!']))\n",
    "\n",
    "    # Average number of question marks \n",
    "    df['question'] = df.comment_text.apply(lambda s: len([c for c in s if c == '?']))\n",
    "    \n",
    "    # Normalize\n",
    "    for label in ['length', 'caps', 'word_length', 'question', 'exclamation']:\n",
    "        minimum = df[label].min()\n",
    "        diff = df[label].max() - minimum\n",
    "        df[label] = df[label].apply(lambda x: (x-minimum) / (diff))\n",
    "\n",
    "    # Strip IP Addresses\n",
    "    ip = re.compile('(([2][5][0-5]\\.)|([2][0-4][0-9]\\.)|([0-1]?[0-9]?[0-9]\\.)){3}'\n",
    "                    +'(([2][5][0-5])|([2][0-4][0-9])|([0-1]?[0-9]?[0-9]))')\n",
    "    def strip_ip(s, ip):\n",
    "        try:\n",
    "            found = ip.search(s)\n",
    "            return s.replace(found.group(), ' ')\n",
    "        except:\n",
    "            return s\n",
    "\n",
    "    df.comment_text = df.comment_text.apply(lambda x: strip_ip(x, ip))\n",
    "    \n",
    "    return df\n",
    "\n",
    "def merge_features(comment_text, data, engineered_features):\n",
    "    new_features = sparse.csr_matrix(df[engineered_features].values)\n",
    "    if np.isnan(new_features.data).any():\n",
    "        new_features.data = np.nan_to_num(new_features.data)\n",
    "    return sparse.hstack([comment_text, new_features])"
   ]
  },
  {
   "cell_type": "markdown",
   "metadata": {},
   "source": [
    "## Loading Dataset"
   ]
  },
  {
   "cell_type": "code",
   "execution_count": 12,
   "metadata": {},
   "outputs": [
    {
     "name": "stderr",
     "output_type": "stream",
     "text": [
      "/home/jay/anaconda3/envs/py35/lib/python3.5/site-packages/numpy/core/fromnumeric.py:2889: RuntimeWarning: Mean of empty slice.\n",
      "  out=out, **kwargs)\n"
     ]
    },
    {
     "name": "stdout",
     "output_type": "stream",
     "text": [
      "Training labels:\n",
      "['toxic', 'severe_toxic', 'obscene', 'threat', 'insult', 'identity_hate']\n",
      "(159571, 6)\n",
      "\n",
      "Training data\n",
      "['comment_text', 'length', 'caps', 'word_length', 'exclamation', 'question']\n",
      "(159571, 6)\n",
      "\n",
      "Submission data\n",
      "['comment_text', 'length', 'caps', 'word_length', 'exclamation', 'question']\n",
      "(153164, 6)\n",
      "['length', 'caps', 'word_length', 'exclamation', 'question']\n"
     ]
    }
   ],
   "source": [
    "# Reset data and create holdout set. \n",
    "\n",
    "df = pd.read_csv('train.csv')\n",
    "targets = list(df.columns[2:])\n",
    "df_targets = df[targets].copy()\n",
    "\n",
    "df_sub = pd.read_csv('test.csv', dtype={'id': object}, na_filter=False)\n",
    "\n",
    "submission = pd.DataFrame()\n",
    "submission['id'] = df_sub.id.copy()\n",
    "\n",
    "# Feature Engineering\n",
    "df = feature_engineering(df)\n",
    "df_sub = feature_engineering(df_sub)\n",
    "\n",
    "print('Training labels:')\n",
    "print(list(df_targets.columns))\n",
    "print(df_targets.shape)\n",
    "\n",
    "print('\\nTraining data')\n",
    "df.drop(list(df_targets.columns), inplace=True, axis=1)\n",
    "df.drop('id', inplace=True, axis=1)\n",
    "print(list(df.columns))\n",
    "print(df.shape)\n",
    "\n",
    "\n",
    "print('\\nSubmission data')\n",
    "df_sub.drop('id', inplace=True, axis=1)\n",
    "print(list(df_sub.columns))\n",
    "print(df_sub.shape)\n",
    "\n",
    "toxic_rows = df_targets.sum(axis=1)\n",
    "toxic_rows = (toxic_rows > 0)\n",
    "targets.append('any_label')\n",
    "df_targets['any_label'] = toxic_rows.astype(int)\n",
    "\n",
    "new_features = list(df.columns[1:])\n",
    "print(new_features)\n",
    "\n",
    "from sklearn.model_selection import train_test_split\n",
    "df, holdout, df_targets, holdout_targets = train_test_split(df, df_targets, test_size=0.2, random_state=seed)"
   ]
  },
  {
   "cell_type": "code",
   "execution_count": 13,
   "metadata": {},
   "outputs": [
    {
     "data": {
      "text/plain": [
       "['length', 'caps', 'word_length', 'exclamation', 'question']"
      ]
     },
     "execution_count": 13,
     "metadata": {},
     "output_type": "execute_result"
    }
   ],
   "source": [
    "new_features"
   ]
  },
  {
   "cell_type": "markdown",
   "metadata": {},
   "source": [
    "## Multilabel Function "
   ]
  },
  {
   "cell_type": "code",
   "execution_count": 14,
   "metadata": {},
   "outputs": [],
   "source": [
    "from sklearn.base import clone\n",
    "#todo \n",
    "# Weights for \n",
    "def multi_cv(model, data, labels, k=5, nb_features=False):\n",
    "    cv = StratifiedKFold(n_splits=k, random_state=seed)\n",
    "    # Creating NB features just once from any_label has about the same \n",
    "    # performance as individual labels with faster speed. \n",
    "    def log_count_ratio(x, y):\n",
    "        x = sparse.csr_matrix(x)\n",
    "        # WARNING: Some scipy modules use indexes that start at 1! \n",
    "        # You need to add 1 to an index when performing operations on a csr_matrix \n",
    "\n",
    "        p = abs(x[np.where(y==1)].sum(axis=0))\n",
    "        p = p + 1\n",
    "        p = p / np.sum(p)\n",
    "\n",
    "        q = abs(x[np.where(y==0)].sum(axis=0))\n",
    "        q = q + 1\n",
    "        q = q / np.sum(q)\n",
    "\n",
    "        return np.log(p/q)\n",
    "    \n",
    "    # Labels must be in a dataframe\n",
    "    scores = []\n",
    "    r_values = []\n",
    "    for label in labels.columns:\n",
    "        if nb_features:\n",
    "            r = log_count_ratio(data, labels[label])\n",
    "            r_values.append(r)\n",
    "            data = data.multiply(r)\n",
    "            if np.isnan(data.data).any():\n",
    "                data.data = np.nan_to_num(data.data)\n",
    "        score = np.mean(cross_val_score(clone(model), data, labels[label], scoring='f1', cv=cv))\n",
    "        print(label + ' f1 score: %.4f' % score)\n",
    "        scores.append(score)\n",
    "    print('Average (excluding any) f1 score: %.4f' % np.mean(scores[:-1]))\n",
    "    if nb_features:\n",
    "        return scores, r_values\n",
    "    else:\n",
    "        return scores\n",
    "\n",
    "#training_comments.data = np.nan_to_num(training_comments.data)\n",
    "\n",
    "#model = LinearSVC()\n",
    "#_ = multi_cv(model, training_comments, df_targets, nb_features=True)"
   ]
  },
  {
   "cell_type": "markdown",
   "metadata": {},
   "source": [
    "## NB Feature Transformer \n",
    "\n",
    "This is the primary method that I will use for the NB-SVM models, but I've left other code in to use as a reference. "
   ]
  },
  {
   "cell_type": "code",
   "execution_count": 16,
   "metadata": {},
   "outputs": [],
   "source": [
    "class NBFeatures:\n",
    "    def __init__(self, epsilon=1, sparse=True):\n",
    "        # How much influence NB features have \n",
    "        if not epsilon > 0 and epsilon <= 1:\n",
    "            raise Exception(\"Invalid Epsilon value. Must be greater than zero and less than or equal to one.\")\n",
    "        self.epsilon = epsilon\n",
    "        self.r = None\n",
    "    \n",
    "    def log_count_ratio(self, x, y):\n",
    "        x = sparse.csr_matrix(x)\n",
    "        # WARNING: Some scipy authors fall in the \"index starts at 1\" camp\n",
    "        # You need to add 1 to an index when performing operations on a csr_matrix \n",
    "        p = abs(x[np.where(y==1)].sum(axis=0))\n",
    "        p = p + 1\n",
    "        p = p / np.sum(p)\n",
    "        q = abs(x[np.where(y==0)].sum(axis=0))\n",
    "        q = q + 1\n",
    "        q = q / np.sum(q)\n",
    "        return np.log(p/q)\n",
    "    \n",
    "    def fit(self, x, y):\n",
    "        self.r = self.log_count_ratio(x, y)\n",
    "    \n",
    "    def transform(self, x):\n",
    "        if self.r == None: \n",
    "            raise Exception(\"Model not fit, can't transform.\")\n",
    "        transformed = x.multiply(self.r)\n",
    "        return x.multiply(1-self.epsilon) + transformed.multiply(self.epsilon)\n",
    "        #return np.multiply(x, self.r)\n",
    "    \n",
    "    def fit_transform(self, x, y):\n",
    "        self.r = self.log_count_ratio(x, y)\n",
    "        return self.transform(x, y)\n",
    "\n",
    "\n",
    "#nb_trans = NBFeatures(0.5)\n",
    "#new = nb_trans.fit_transform(training_comments, np.array(df_targets.iloc[:,-1]))\n",
    "#nb_trans.r.shape"
   ]
  },
  {
   "cell_type": "markdown",
   "metadata": {},
   "source": [
    "A separate helper function to calculate the log count ratio that can be used for experimentation. "
   ]
  },
  {
   "cell_type": "code",
   "execution_count": 9,
   "metadata": {},
   "outputs": [],
   "source": [
    "def log_count_ratio(x, y):\n",
    "    x = sparse.csr_matrix(x)\n",
    "    # WARNING: Some scipy authors fall in the \"index starts at 1\" camp\n",
    "    # You need to add 1 to an index when performing operations on a csr_matrix \n",
    "\n",
    "    p = abs(x[np.where(y==1)].sum(axis=0))\n",
    "    p = p + 1\n",
    "    p = p / np.sum(p)\n",
    "\n",
    "    q = abs(x[np.where(y==0)].sum(axis=0))\n",
    "    q = q + 1\n",
    "    q = q / np.sum(q)\n",
    "\n",
    "    return np.log(p/q)\n"
   ]
  },
  {
   "cell_type": "markdown",
   "metadata": {},
   "source": [
    "# Vectorizing text"
   ]
  },
  {
   "cell_type": "markdown",
   "metadata": {},
   "source": [
    "It's necessary to vectorize text before inputting into machine learning models. This is a process of translating string data into numerical data that the computer can better understand. Vectorized data is usually sparse, with an array where the features contain either word counts or another way of representing the occurance of characters or words in a string. This is done with a vectorizer object, which stores a dictionary of characters or words and their associated integer representation, along with relevant statistics if applicable. \n",
    "\n",
    "The strategy I'm going to use here is term frequency - inverse document frequency. This is a statistic that describes the usefulness of a string of characters by looking at the frequency that it occurs in an individual document (here, a single comment) and the inverse of its frequency in all of the documents in the dataset. \n",
    "\n",
    "That means that a word that is used frequently in a comment in this dataset, but that few comments in the dataset feature, is probably useful to the model. But a string that occurs in nearly every document is almost useless. "
   ]
  },
  {
   "cell_type": "code",
   "execution_count": 15,
   "metadata": {
    "colab": {
     "autoexec": {
      "startup": false,
      "wait_interval": 0
     }
    },
    "colab_type": "code",
    "id": "TGoGjh6b5y0i"
   },
   "outputs": [
    {
     "name": "stdout",
     "output_type": "stream",
     "text": [
      "Elapsed time was 0:19.\n",
      "(127656, 10000)\n"
     ]
    }
   ],
   "source": [
    "start = time.time()\n",
    "comment_vector = TfidfVectorizer(max_features=10000, analyzer='word', #ngram_range=(2, 6), \n",
    "                                 stop_words='english')\n",
    "training_comments = comment_vector.fit_transform(df.comment_text)\n",
    "holdout_comments = comment_vector.transform(holdout.comment_text)\n",
    "submission_comments = comment_vector.transform(df_sub.comment_text)\n",
    "print_time(start)\n",
    "\n",
    "print(training_comments.shape)"
   ]
  },
  {
   "cell_type": "markdown",
   "metadata": {},
   "source": [
    "One of the most important parameters to tune in this problem is the number of features and the n_gram range in the TF-IDF vectorizer, as well as choosing whether to analyze the sequences by characters or words. Analyzing by single words initially gives very poor performance, possibly because slang words and misspellings reduce the frequency of individual bad words.  "
   ]
  },
  {
   "cell_type": "markdown",
   "metadata": {},
   "source": [
    "This is a simple function to play with reducing class imbalance. "
   ]
  },
  {
   "cell_type": "code",
   "execution_count": 16,
   "metadata": {},
   "outputs": [],
   "source": [
    "# This is just experimental to learn about the behavior of models with imbalanced classes. \n",
    "\n",
    "from numpy.random import sample\n",
    "\n",
    "def imbalance_reduction(p, y):\n",
    "    \"\"\"\n",
    "    For multilabel problems, keeps all rows with a \n",
    "    positive label and returns p% of data where label is zero. \n",
    "    \"\"\"\n",
    "    #reduce y\n",
    "    y = np.sum(y, axis=1)\n",
    "    p = 1-p\n",
    "    keep_index = sample(len(y))\n",
    "    keep_index = keep_index + y\n",
    "    keep_index[keep_index>=p] = 1\n",
    "    keep_index[keep_index<p] = 0\n",
    "\n",
    "    return np.where(keep_index==1)"
   ]
  },
  {
   "cell_type": "markdown",
   "metadata": {},
   "source": [
    "# Benchmarks"
   ]
  },
  {
   "cell_type": "markdown",
   "metadata": {},
   "source": [
    "### Logistic Regression"
   ]
  },
  {
   "cell_type": "markdown",
   "metadata": {},
   "source": [
    "With 10,000 vectorized features, but without engineered features. "
   ]
  },
  {
   "cell_type": "code",
   "execution_count": 26,
   "metadata": {
    "scrolled": true
   },
   "outputs": [
    {
     "name": "stdout",
     "output_type": "stream",
     "text": [
      "toxic score: 0.7192\n",
      "severe_toxic score: 0.3224\n",
      "obscene score: 0.7452\n",
      "threat score: 0.2069\n",
      "insult score: 0.6277\n",
      "identity_hate score: 0.2772\n",
      "any_label score: 0.7299\n",
      "Elapsed time was 0:43.\n"
     ]
    }
   ],
   "source": [
    "\n",
    "start = time.time()\n",
    "for target in targets: \n",
    "    lr = LogisticRegression(random_state=seed)\n",
    "    print(target + ' score: %.4f' % np.mean(cross_val_score(lr, training_comments, df_targets[target], scoring='f1', cv=cv)))\n",
    "print_time(start)"
   ]
  },
  {
   "cell_type": "markdown",
   "metadata": {},
   "source": [
    "With engineered features added in. "
   ]
  },
  {
   "cell_type": "code",
   "execution_count": 28,
   "metadata": {},
   "outputs": [
    {
     "name": "stdout",
     "output_type": "stream",
     "text": [
      "toxic score: 0.7235\n",
      "severe_toxic score: 0.3475\n",
      "obscene score: 0.7440\n",
      "threat score: 0.2029\n",
      "insult score: 0.6274\n",
      "identity_hate score: 0.2768\n",
      "any_label score: 0.7328\n",
      "Elapsed time was 0:54.\n"
     ]
    }
   ],
   "source": [
    "start = time.time()\n",
    "for target in targets: \n",
    "    lr = LogisticRegression(random_state=seed)\n",
    "    print(target + ' score: %.4f' % np.mean(cross_val_score(lr, merge_features(training_comments, df, new_features), df_targets[target], scoring='f1', cv=cv)))\n",
    "print_time(start)"
   ]
  },
  {
   "cell_type": "markdown",
   "metadata": {},
   "source": [
    "### Naive Bayes"
   ]
  },
  {
   "cell_type": "code",
   "execution_count": 34,
   "metadata": {},
   "outputs": [
    {
     "name": "stdout",
     "output_type": "stream",
     "text": [
      "toxic f1 score: 0.6581\n",
      "severe_toxic f1 score: 0.1032\n",
      "obscene f1 score: 0.6672\n"
     ]
    },
    {
     "name": "stderr",
     "output_type": "stream",
     "text": [
      "/home/jay/anaconda3/envs/py35/lib/python3.5/site-packages/sklearn/metrics/classification.py:1135: UndefinedMetricWarning: F-score is ill-defined and being set to 0.0 due to no predicted samples.\n",
      "  'precision', 'predicted', average, warn_for)\n",
      "/home/jay/anaconda3/envs/py35/lib/python3.5/site-packages/sklearn/metrics/classification.py:1135: UndefinedMetricWarning: F-score is ill-defined and being set to 0.0 due to no predicted samples.\n",
      "  'precision', 'predicted', average, warn_for)\n",
      "/home/jay/anaconda3/envs/py35/lib/python3.5/site-packages/sklearn/metrics/classification.py:1135: UndefinedMetricWarning: F-score is ill-defined and being set to 0.0 due to no predicted samples.\n",
      "  'precision', 'predicted', average, warn_for)\n",
      "/home/jay/anaconda3/envs/py35/lib/python3.5/site-packages/sklearn/metrics/classification.py:1135: UndefinedMetricWarning: F-score is ill-defined and being set to 0.0 due to no predicted samples.\n",
      "  'precision', 'predicted', average, warn_for)\n"
     ]
    },
    {
     "name": "stdout",
     "output_type": "stream",
     "text": [
      "threat f1 score: 0.0000\n",
      "insult f1 score: 0.5603\n",
      "identity_hate f1 score: 0.0418\n",
      "any_label f1 score: 0.6670\n",
      "Average (excluding any) f1 score: 0.3384\n",
      "Elapsed time was 0:02.\n"
     ]
    }
   ],
   "source": [
    "start = time.time() \n",
    "\n",
    "model = MultinomialNB(alpha=1.0)\n",
    "_ = multi_cv(model, training_comments, df_targets)\n",
    "print_time(start)"
   ]
  },
  {
   "cell_type": "markdown",
   "metadata": {},
   "source": [
    "With engineered features. "
   ]
  },
  {
   "cell_type": "code",
   "execution_count": 35,
   "metadata": {},
   "outputs": [
    {
     "name": "stdout",
     "output_type": "stream",
     "text": [
      "toxic f1 score: 0.6662\n",
      "severe_toxic f1 score: 0.0992\n",
      "obscene f1 score: 0.6742\n"
     ]
    },
    {
     "name": "stderr",
     "output_type": "stream",
     "text": [
      "/home/jay/anaconda3/envs/py35/lib/python3.5/site-packages/sklearn/metrics/classification.py:1135: UndefinedMetricWarning: F-score is ill-defined and being set to 0.0 due to no predicted samples.\n",
      "  'precision', 'predicted', average, warn_for)\n",
      "/home/jay/anaconda3/envs/py35/lib/python3.5/site-packages/sklearn/metrics/classification.py:1135: UndefinedMetricWarning: F-score is ill-defined and being set to 0.0 due to no predicted samples.\n",
      "  'precision', 'predicted', average, warn_for)\n",
      "/home/jay/anaconda3/envs/py35/lib/python3.5/site-packages/sklearn/metrics/classification.py:1135: UndefinedMetricWarning: F-score is ill-defined and being set to 0.0 due to no predicted samples.\n",
      "  'precision', 'predicted', average, warn_for)\n",
      "/home/jay/anaconda3/envs/py35/lib/python3.5/site-packages/sklearn/metrics/classification.py:1135: UndefinedMetricWarning: F-score is ill-defined and being set to 0.0 due to no predicted samples.\n",
      "  'precision', 'predicted', average, warn_for)\n"
     ]
    },
    {
     "name": "stdout",
     "output_type": "stream",
     "text": [
      "threat f1 score: 0.0000\n",
      "insult f1 score: 0.5708\n",
      "identity_hate f1 score: 0.0369\n",
      "any_label f1 score: 0.6734\n",
      "Average (excluding any) f1 score: 0.3412\n",
      "Elapsed time was 0:03.\n"
     ]
    }
   ],
   "source": [
    "start = time.time() \n",
    "\n",
    "model = MultinomialNB(alpha=1.0)\n",
    "_ = multi_cv(model, merge_features(training_comments, df, new_features), df_targets)\n",
    "print_time(start)"
   ]
  },
  {
   "cell_type": "markdown",
   "metadata": {},
   "source": [
    "### Support Vector Machine "
   ]
  },
  {
   "cell_type": "code",
   "execution_count": 37,
   "metadata": {},
   "outputs": [
    {
     "name": "stdout",
     "output_type": "stream",
     "text": [
      "toxic f1 score: 0.7551\n",
      "severe_toxic f1 score: 0.3382\n",
      "obscene f1 score: 0.7806\n",
      "threat f1 score: 0.3658\n",
      "insult f1 score: 0.6643\n",
      "identity_hate f1 score: 0.3562\n",
      "any_label f1 score: 0.7703\n",
      "Average (excluding any) f1 score: 0.5434\n",
      "Elapsed time was 0:25.\n"
     ]
    }
   ],
   "source": [
    "start = time.time()\n",
    "model = LinearSVC(random_state=seed)\n",
    "_ = multi_cv(model, training_comments, df_targets)\n",
    "print_time(start)"
   ]
  },
  {
   "cell_type": "code",
   "execution_count": 38,
   "metadata": {},
   "outputs": [
    {
     "name": "stdout",
     "output_type": "stream",
     "text": [
      "toxic f1 score: 0.7594\n",
      "severe_toxic f1 score: 0.3492\n",
      "obscene f1 score: 0.7797\n",
      "threat f1 score: 0.3624\n",
      "insult f1 score: 0.6643\n",
      "identity_hate f1 score: 0.3548\n",
      "any_label f1 score: 0.7739\n",
      "Average (excluding any) f1 score: 0.5450\n",
      "Elapsed time was 0:37.\n"
     ]
    }
   ],
   "source": [
    "start = time.time()\n",
    "\n",
    "model = LinearSVC(random_state=seed)\n",
    "_ = multi_cv(model, merge_features(training_comments, df, new_features), df_targets)\n",
    "print_time(start)"
   ]
  },
  {
   "cell_type": "markdown",
   "metadata": {},
   "source": [
    "### Support Vector Machine with Naive Bayes Features"
   ]
  },
  {
   "cell_type": "code",
   "execution_count": 41,
   "metadata": {},
   "outputs": [],
   "source": [
    "nb = NBFeatures()\n",
    "nb.fit(training_comments, df_targets.any_label)\n",
    "nb_eng = NBFeatures()\n",
    "nb_eng.fit(merge_features(training_comments, df, new_features), df_targets.any_label)\n"
   ]
  },
  {
   "cell_type": "markdown",
   "metadata": {},
   "source": [
    "Mini test: Does feature scaling make a difference? Support vector machines are particularly vulnerable to unbalanced features, and I want to check whether scaling after the added step of the Naive Bayes feature transformation makes a difference. "
   ]
  },
  {
   "cell_type": "code",
   "execution_count": 43,
   "metadata": {},
   "outputs": [
    {
     "name": "stderr",
     "output_type": "stream",
     "text": [
      "/home/jay/anaconda3/envs/py35/lib/python3.5/site-packages/ipykernel/__main__.py:25: FutureWarning: comparison to `None` will result in an elementwise object comparison in the future.\n"
     ]
    },
    {
     "name": "stdout",
     "output_type": "stream",
     "text": [
      "toxic f1 score: 0.7636\n",
      "severe_toxic f1 score: 0.3483\n",
      "obscene f1 score: 0.7863\n",
      "threat f1 score: 0.3374\n",
      "insult f1 score: 0.6707\n",
      "identity_hate f1 score: 0.3474\n",
      "any_label f1 score: 0.7804\n",
      "Average (excluding any) f1 score: 0.5423\n",
      "Elapsed time was 3:14.\n"
     ]
    }
   ],
   "source": [
    "# Unscaled \n",
    "start = time.time()\n",
    "model = LinearSVC(random_state=seed)\n",
    "sc = StandardScaler(with_mean=False)\n",
    "_ = multi_cv(model, nb.transform(training_comments), df_targets) \n",
    "print_time(start)"
   ]
  },
  {
   "cell_type": "markdown",
   "metadata": {},
   "source": [
    "toxic f1 score: 0.7636\n",
    "severe_toxic f1 score: 0.3483\n",
    "obscene f1 score: 0.7863\n",
    "threat f1 score: 0.3374\n",
    "insult f1 score: 0.6707\n",
    "identity_hate f1 score: 0.3474\n",
    "any_label f1 score: 0.7804\n",
    "Average (excluding any) f1 score: 0.5423\n",
    "Elapsed time was 3:14."
   ]
  },
  {
   "cell_type": "code",
   "execution_count": null,
   "metadata": {},
   "outputs": [],
   "source": [
    "# Scaled start = time.time()\n",
    "model = LinearSVC(random_state=seed)\n",
    "sc = StandardScaler(with_mean=False)\n",
    "_ = multi_cv(model, sc.fit_transform(nb.transform(training_comments)), df_targets)\n",
    "print_time(start)"
   ]
  },
  {
   "cell_type": "markdown",
   "metadata": {},
   "source": [
    "toxic f1 score: 0.6450\n",
    "severe_toxic f1 score: 0.1992\n",
    "obscene f1 score: 0.5849\n",
    "threat f1 score: 0.2039\n",
    "insult f1 score: 0.4803\n",
    "identity_hate f1 score: 0.1735\n",
    "any_label f1 score: 0.6640\n",
    "Average (excluding any) f1 score: 0.3811\n",
    "Elapsed time was 7:08."
   ]
  },
  {
   "cell_type": "markdown",
   "metadata": {},
   "source": [
    "Feature scaling produced worse scores and took longer. I expected this, but just wanted to do a sanity check to validate my assumptions. "
   ]
  },
  {
   "cell_type": "markdown",
   "metadata": {},
   "source": [
    "With engineered features. "
   ]
  },
  {
   "cell_type": "code",
   "execution_count": 44,
   "metadata": {},
   "outputs": [
    {
     "name": "stderr",
     "output_type": "stream",
     "text": [
      "/home/jay/anaconda3/envs/py35/lib/python3.5/site-packages/ipykernel/__main__.py:25: FutureWarning: comparison to `None` will result in an elementwise object comparison in the future.\n"
     ]
    },
    {
     "name": "stdout",
     "output_type": "stream",
     "text": [
      "toxic f1 score: 0.7696\n",
      "severe_toxic f1 score: 0.3623\n",
      "obscene f1 score: 0.7869\n",
      "threat f1 score: 0.3408\n",
      "insult f1 score: 0.6727\n",
      "identity_hate f1 score: 0.3488\n",
      "any_label f1 score: 0.7842\n",
      "Average (excluding any) f1 score: 0.5468\n",
      "Elapsed time was 3:37.\n"
     ]
    }
   ],
   "source": [
    "start = time.time()\n",
    "model = LinearSVC(random_state=seed)\n",
    "_ = multi_cv(model, nb_eng.transform(merge_features(training_comments, df, new_features)), df_targets)\n",
    "print_time(start)"
   ]
  },
  {
   "cell_type": "markdown",
   "metadata": {},
   "source": [
    "### LightGBM "
   ]
  },
  {
   "cell_type": "code",
   "execution_count": 45,
   "metadata": {},
   "outputs": [],
   "source": []
  },
  {
   "cell_type": "code",
   "execution_count": 49,
   "metadata": {},
   "outputs": [
    {
     "name": "stderr",
     "output_type": "stream",
     "text": [
      "/home/jay/anaconda3/envs/py35/lib/python3.5/site-packages/lightgbm/engine.py:390: UserWarning: Found `n_estimators` in params. Will use it instead of argument\n",
      "  warnings.warn(\"Found `{}` in params. Will use it instead of argument\".format(alias))\n"
     ]
    },
    {
     "name": "stdout",
     "output_type": "stream",
     "text": [
      "Elapsed time was 5:05.\n",
      "Final CV F1 score is 0.7470\n"
     ]
    }
   ],
   "source": [
    "start = time.time()\n",
    "train_data = lgb.Dataset(training_comments, label=df_targets.any_label.values)\n",
    "params = {\n",
    "    'boosting_type': 'gbdt',\n",
    "    'objective': 'binary',\n",
    "    'verbose': 1,\n",
    "    'num_leaves': 64,\n",
    "    'n_estimators': 500, \n",
    "    'learning_rate': 0.05, \n",
    "    'max_depth': 16,\n",
    "    'n_jobs': -1,\n",
    "    'seed': seed\n",
    "}\n",
    "\n",
    "cv_results = lgb.cv(\n",
    "        params,\n",
    "        train_data,\n",
    "        num_boost_round=100,\n",
    "        nfold=5,\n",
    "        metrics='mae',\n",
    "        #early_stopping_rounds=10,\n",
    "        feval=lgb_f1_score\n",
    "        )\n",
    "print_time(start)\n",
    "\n",
    "print(\"Final CV F1 score is %.4f\" % cv_results['f1-mean'][-1])"
   ]
  },
  {
   "cell_type": "markdown",
   "metadata": {},
   "source": [
    "Elapsed time was 5:05.\n",
    "Final CV F1 score is 0.7470"
   ]
  },
  {
   "cell_type": "markdown",
   "metadata": {},
   "source": [
    "With engineered features. "
   ]
  },
  {
   "cell_type": "code",
   "execution_count": 51,
   "metadata": {},
   "outputs": [
    {
     "name": "stderr",
     "output_type": "stream",
     "text": [
      "/home/jay/anaconda3/envs/py35/lib/python3.5/site-packages/lightgbm/engine.py:390: UserWarning: Found `n_estimators` in params. Will use it instead of argument\n",
      "  warnings.warn(\"Found `{}` in params. Will use it instead of argument\".format(alias))\n"
     ]
    },
    {
     "name": "stdout",
     "output_type": "stream",
     "text": [
      "Elapsed time was 4:58.\n",
      "Final CV F1 score is 0.7573\n"
     ]
    }
   ],
   "source": [
    "start = time.time()\n",
    "train_data = lgb.Dataset(merge_features(training_comments, df, new_features), label=df_targets.any_label.values)\n",
    "params = {\n",
    "    'boosting_type': 'gbdt',\n",
    "    'objective': 'binary',\n",
    "    'verbose': 1,\n",
    "    'num_leaves': 64,\n",
    "    'n_estimators': 500, \n",
    "    'learning_rate': 0.05, \n",
    "    'max_depth': 16,\n",
    "    'n_jobs': -1,\n",
    "    'seed': seed\n",
    "}\n",
    "\n",
    "cv_results = lgb.cv(\n",
    "        params,\n",
    "        train_data,\n",
    "        num_boost_round=100,\n",
    "        nfold=5,\n",
    "        metrics='mae',\n",
    "        #early_stopping_rounds=10,\n",
    "        feval=lgb_f1_score\n",
    "        )\n",
    "print_time(start)\n",
    "\n",
    "print(\"Final CV F1 score is %.4f\" % cv_results['f1-mean'][-1])"
   ]
  },
  {
   "cell_type": "markdown",
   "metadata": {},
   "source": [
    "Elapsed time was 5:04.\n",
    "Final CV F1 score is 0.7573"
   ]
  },
  {
   "cell_type": "markdown",
   "metadata": {},
   "source": [
    "# Model Refinement"
   ]
  },
  {
   "cell_type": "markdown",
   "metadata": {},
   "source": [
    "### Step 1:  Optimize tf-idf max features "
   ]
  },
  {
   "cell_type": "code",
   "execution_count": 29,
   "metadata": {},
   "outputs": [
    {
     "name": "stdout",
     "output_type": "stream",
     "text": [
      "Elapsed time was 0:19.\n",
      "(127656, 10000)\n"
     ]
    },
    {
     "name": "stderr",
     "output_type": "stream",
     "text": [
      "/home/jay/anaconda3/envs/py35/lib/python3.5/site-packages/ipykernel/__main__.py:25: FutureWarning: comparison to `None` will result in an elementwise object comparison in the future.\n"
     ]
    },
    {
     "name": "stdout",
     "output_type": "stream",
     "text": [
      "0.784174616909\n",
      "Elapsed time was 0:33.\n"
     ]
    }
   ],
   "source": [
    "start = time.time()\n",
    "comment_vector = TfidfVectorizer(max_features=10000, analyzer='word', #ngram_range=(3, 7), \n",
    "                                 stop_words='english')\n",
    "training_comments = comment_vector.fit_transform(df.comment_text)\n",
    "holdout_comments = comment_vector.transform(holdout.comment_text)\n",
    "submission_comments = comment_vector.transform(df_sub.comment_text)\n",
    "print_time(start)\n",
    "\n",
    "print(training_comments.shape)\n",
    "\n",
    "start = time.time()\n",
    "\n",
    "nb_eng = NBFeatures()\n",
    "nb_eng.fit(merge_features(training_comments, df, new_features), df_targets.any_label)\n",
    "training_comments = nb_eng.transform(merge_features(training_comments, df, new_features))\n",
    "\n",
    "model = LinearSVC(random_state=seed)\n",
    "\n",
    "score = np.mean(cross_val_score(model, training_comments, df_targets.any_label, scoring='f1', cv=cv))\n",
    "\n",
    "print(score)\n",
    "\n",
    "print_time(start)"
   ]
  },
  {
   "cell_type": "markdown",
   "metadata": {},
   "source": [
    "0.784174616909\n",
    "Elapsed time was 0:33."
   ]
  },
  {
   "cell_type": "code",
   "execution_count": 28,
   "metadata": {},
   "outputs": [
    {
     "name": "stdout",
     "output_type": "stream",
     "text": [
      "Elapsed time was 0:09.\n",
      "(127656, 30000)\n"
     ]
    },
    {
     "name": "stderr",
     "output_type": "stream",
     "text": [
      "/home/jay/anaconda3/envs/py35/lib/python3.5/site-packages/ipykernel/__main__.py:25: FutureWarning: comparison to `None` will result in an elementwise object comparison in the future.\n"
     ]
    },
    {
     "name": "stdout",
     "output_type": "stream",
     "text": [
      "0.792595764561\n",
      "Elapsed time was 0:21.\n"
     ]
    }
   ],
   "source": [
    "start = time.time()\n",
    "comment_vector = TfidfVectorizer(max_features=30000, analyzer='word', # ngram_range=(3, 7), \n",
    "                                 stop_words='english')\n",
    "training_comments = comment_vector.fit_transform(df.comment_text)\n",
    "#holdout_comments = comment_vector.transform(holdout.comment_text)\n",
    "#submission_comments = comment_vector.transform(df_sub.comment_text)\n",
    "print_time(start)\n",
    "\n",
    "print(training_comments.shape)\n",
    "\n",
    "start = time.time()\n",
    "\n",
    "nb_eng = NBFeatures()\n",
    "nb_eng.fit(merge_features(training_comments, df, new_features), df_targets.any_label)\n",
    "training_comments = nb_eng.transform(merge_features(training_comments, df, new_features))\n",
    "\n",
    "model = LinearSVC(random_state=seed)\n",
    "\n",
    "score = np.mean(cross_val_score(model, training_comments, df_targets.any_label, scoring='f1', cv=cv))\n",
    "\n",
    "print(score)\n",
    "\n",
    "print_time(start)"
   ]
  },
  {
   "cell_type": "markdown",
   "metadata": {},
   "source": [
    "0.792595764561\n",
    "Elapsed time was 0:21."
   ]
  },
  {
   "cell_type": "code",
   "execution_count": 27,
   "metadata": {},
   "outputs": [
    {
     "name": "stdout",
     "output_type": "stream",
     "text": [
      "Elapsed time was 0:38.\n",
      "(127656, 30000)\n"
     ]
    },
    {
     "name": "stderr",
     "output_type": "stream",
     "text": [
      "/home/jay/anaconda3/envs/py35/lib/python3.5/site-packages/ipykernel/__main__.py:25: FutureWarning: comparison to `None` will result in an elementwise object comparison in the future.\n"
     ]
    },
    {
     "name": "stdout",
     "output_type": "stream",
     "text": [
      "0.787710758788\n",
      "Elapsed time was 0:25.\n"
     ]
    }
   ],
   "source": [
    "start = time.time()\n",
    "comment_vector = TfidfVectorizer(max_features=30000, analyzer='word', ngram_range=(1,2), \n",
    "                                 stop_words='english')\n",
    "training_comments = comment_vector.fit_transform(df.comment_text)\n",
    "#holdout_comments = comment_vector.transform(holdout.comment_text)\n",
    "#submission_comments = comment_vector.transform(df_sub.comment_text)\n",
    "print_time(start)\n",
    "\n",
    "print(training_comments.shape)\n",
    "\n",
    "start = time.time()\n",
    "\n",
    "nb_eng = NBFeatures()\n",
    "nb_eng.fit(merge_features(training_comments, df, new_features), df_targets.any_label)\n",
    "training_comments = nb_eng.transform(merge_features(training_comments, df, new_features))\n",
    "\n",
    "model = LinearSVC(random_state=seed)\n",
    "\n",
    "score = np.mean(cross_val_score(model, training_comments, df_targets.any_label, scoring='f1', cv=cv))\n",
    "\n",
    "print(score)\n",
    "\n",
    "print_time(start)"
   ]
  },
  {
   "cell_type": "markdown",
   "metadata": {},
   "source": [
    "0.787710758788\n",
    "Elapsed time was 0:25."
   ]
  },
  {
   "cell_type": "code",
   "execution_count": 20,
   "metadata": {},
   "outputs": [
    {
     "name": "stdout",
     "output_type": "stream",
     "text": [
      "Elapsed time was 3:34.\n",
      "(127656, 30000)\n"
     ]
    },
    {
     "name": "stderr",
     "output_type": "stream",
     "text": [
      "/home/jay/anaconda3/envs/py35/lib/python3.5/site-packages/ipykernel/__main__.py:25: FutureWarning: comparison to `None` will result in an elementwise object comparison in the future.\n"
     ]
    },
    {
     "name": "stdout",
     "output_type": "stream",
     "text": [
      "0.404212938192\n",
      "Elapsed time was 0:31.\n"
     ]
    }
   ],
   "source": [
    "start = time.time()\n",
    "comment_vector = TfidfVectorizer(max_features=30000, analyzer='word', ngram_range=(2,6), \n",
    "                                 stop_words='english')\n",
    "training_comments = comment_vector.fit_transform(df.comment_text)\n",
    "#holdout_comments = comment_vector.transform(holdout.comment_text)\n",
    "#submission_comments = comment_vector.transform(df_sub.comment_text)\n",
    "print_time(start)\n",
    "\n",
    "print(training_comments.shape)\n",
    "\n",
    "start = time.time()\n",
    "\n",
    "nb_eng = NBFeatures()\n",
    "nb_eng.fit(merge_features(training_comments, df, new_features), df_targets.any_label)\n",
    "training_comments = nb_eng.transform(merge_features(training_comments, df, new_features))\n",
    "\n",
    "model = LinearSVC(random_state=seed)\n",
    "\n",
    "score = np.mean(cross_val_score(model, training_comments, df_targets.any_label, scoring='f1', cv=cv))\n",
    "\n",
    "print(score)\n",
    "\n",
    "print_time(start)"
   ]
  },
  {
   "cell_type": "markdown",
   "metadata": {},
   "source": [
    "0.404212938192\n",
    "Elapsed time was 0:31."
   ]
  },
  {
   "cell_type": "code",
   "execution_count": 21,
   "metadata": {},
   "outputs": [
    {
     "name": "stdout",
     "output_type": "stream",
     "text": [
      "Elapsed time was 7:04.\n",
      "(127656, 20000)\n"
     ]
    },
    {
     "name": "stderr",
     "output_type": "stream",
     "text": [
      "/home/jay/anaconda3/envs/py35/lib/python3.5/site-packages/ipykernel/__main__.py:25: FutureWarning: comparison to `None` will result in an elementwise object comparison in the future.\n"
     ]
    },
    {
     "name": "stdout",
     "output_type": "stream",
     "text": [
      "0.774235174963\n",
      "Elapsed time was 3:09.\n"
     ]
    }
   ],
   "source": [
    "start = time.time()\n",
    "comment_vector = TfidfVectorizer(max_features=20000, analyzer='char', ngram_range=(3, 7), \n",
    "                                 stop_words='english')\n",
    "training_comments = comment_vector.fit_transform(df.comment_text)\n",
    "#holdout_comments = comment_vector.transform(holdout.comment_text)\n",
    "#submission_comments = comment_vector.transform(df_sub.comment_text)\n",
    "print_time(start)\n",
    "\n",
    "print(training_comments.shape)\n",
    "\n",
    "start = time.time()\n",
    "\n",
    "nb_eng = NBFeatures()\n",
    "nb_eng.fit(merge_features(training_comments, df, new_features), df_targets.any_label)\n",
    "training_comments = nb_eng.transform(merge_features(training_comments, df, new_features))\n",
    "\n",
    "model = LinearSVC(random_state=seed)\n",
    "\n",
    "score = np.mean(cross_val_score(model, training_comments, df_targets.any_label, scoring='f1', cv=cv))\n",
    "\n",
    "print(score)\n",
    "\n",
    "print_time(start)"
   ]
  },
  {
   "cell_type": "markdown",
   "metadata": {},
   "source": [
    "0.774235174963\n",
    "Elapsed time was 3:09."
   ]
  },
  {
   "cell_type": "code",
   "execution_count": 22,
   "metadata": {},
   "outputs": [
    {
     "name": "stdout",
     "output_type": "stream",
     "text": [
      "Elapsed time was 7:25.\n",
      "(127656, 10000)\n"
     ]
    },
    {
     "name": "stderr",
     "output_type": "stream",
     "text": [
      "/home/jay/anaconda3/envs/py35/lib/python3.5/site-packages/ipykernel/__main__.py:25: FutureWarning: comparison to `None` will result in an elementwise object comparison in the future.\n"
     ]
    },
    {
     "name": "stdout",
     "output_type": "stream",
     "text": [
      "0.796185423779\n",
      "Elapsed time was 2:56.\n"
     ]
    }
   ],
   "source": [
    "start = time.time()\n",
    "word_vectorizer = TfidfVectorizer(max_features=5000, analyzer='word',# ngram_range=(1, 2), \n",
    "                                 stop_words='english')\n",
    "char_vectorizer = TfidfVectorizer(max_features=5000, analyzer='char', ngram_range=(3, 7), \n",
    "                                 stop_words='english')\n",
    "vectorizer = make_union(word_vectorizer, char_vectorizer, n_jobs=-1)\n",
    "training_comments = vectorizer.fit_transform(df.comment_text)\n",
    "print_time(start)\n",
    "print(training_comments.shape)\n",
    "\n",
    "start = time.time()\n",
    "\n",
    "nb_eng = NBFeatures()\n",
    "nb_eng.fit(merge_features(training_comments, df, new_features), df_targets.any_label)\n",
    "training_comments = nb_eng.transform(merge_features(training_comments, df, new_features))\n",
    "\n",
    "model = LinearSVC(random_state=seed)\n",
    "\n",
    "score = np.mean(cross_val_score(model, training_comments, df_targets.any_label, scoring='f1', cv=cv))\n",
    "\n",
    "print(score)\n",
    "\n",
    "print_time(start)"
   ]
  },
  {
   "cell_type": "markdown",
   "metadata": {},
   "source": [
    "0.796185423779\n",
    "Elapsed time was 2:56."
   ]
  },
  {
   "cell_type": "code",
   "execution_count": 23,
   "metadata": {},
   "outputs": [
    {
     "name": "stdout",
     "output_type": "stream",
     "text": [
      "Elapsed time was 7:30.\n",
      "(127656, 20000)\n"
     ]
    },
    {
     "name": "stderr",
     "output_type": "stream",
     "text": [
      "/home/jay/anaconda3/envs/py35/lib/python3.5/site-packages/ipykernel/__main__.py:25: FutureWarning: comparison to `None` will result in an elementwise object comparison in the future.\n"
     ]
    },
    {
     "name": "stdout",
     "output_type": "stream",
     "text": [
      "0.798518003383\n",
      "Elapsed time was 2:07.\n"
     ]
    }
   ],
   "source": [
    "start = time.time()\n",
    "word_vectorizer = TfidfVectorizer(max_features=15000, analyzer='word', ngram_range=(1, 2), \n",
    "                                 stop_words='english')\n",
    "char_vectorizer = TfidfVectorizer(max_features=5000, analyzer='char', ngram_range=(3, 7), \n",
    "                                 stop_words='english')\n",
    "vectorizer = make_union(word_vectorizer, char_vectorizer, n_jobs=-1)\n",
    "training_comments = vectorizer.fit_transform(df.comment_text)\n",
    "print_time(start)\n",
    "print(training_comments.shape)\n",
    "\n",
    "start = time.time()\n",
    "\n",
    "nb_eng = NBFeatures()\n",
    "nb_eng.fit(merge_features(training_comments, df, new_features), df_targets.any_label)\n",
    "training_comments = nb_eng.transform(merge_features(training_comments, df, new_features))\n",
    "\n",
    "model = LinearSVC(random_state=seed)\n",
    "\n",
    "score = np.mean(cross_val_score(model, training_comments, df_targets.any_label, scoring='f1', cv=cv))\n",
    "\n",
    "print(score)\n",
    "\n",
    "print_time(start)"
   ]
  },
  {
   "cell_type": "markdown",
   "metadata": {},
   "source": [
    "0.798518003383\n",
    "Elapsed time was 2:07."
   ]
  },
  {
   "cell_type": "code",
   "execution_count": 24,
   "metadata": {},
   "outputs": [
    {
     "name": "stdout",
     "output_type": "stream",
     "text": [
      "Elapsed time was 7:29.\n",
      "(127656, 30000)\n"
     ]
    },
    {
     "name": "stderr",
     "output_type": "stream",
     "text": [
      "/home/jay/anaconda3/envs/py35/lib/python3.5/site-packages/ipykernel/__main__.py:25: FutureWarning: comparison to `None` will result in an elementwise object comparison in the future.\n"
     ]
    },
    {
     "name": "stdout",
     "output_type": "stream",
     "text": [
      "0.800512138358\n",
      "Elapsed time was 2:36.\n"
     ]
    }
   ],
   "source": [
    "start = time.time()\n",
    "word_vectorizer = TfidfVectorizer(max_features=20000, analyzer='word', ngram_range=(1, 2), \n",
    "                                 stop_words='english')\n",
    "char_vectorizer = TfidfVectorizer(max_features=10000, analyzer='char', ngram_range=(3, 7), \n",
    "                                 stop_words='english')\n",
    "vectorizer = make_union(word_vectorizer, char_vectorizer, n_jobs=-1)\n",
    "training_comments = vectorizer.fit_transform(df.comment_text)\n",
    "print_time(start)\n",
    "print(training_comments.shape)\n",
    "\n",
    "start = time.time()\n",
    "\n",
    "nb_eng = NBFeatures()\n",
    "nb_eng.fit(merge_features(training_comments, df, new_features), df_targets.any_label)\n",
    "training_comments = nb_eng.transform(merge_features(training_comments, df, new_features))\n",
    "\n",
    "model = LinearSVC(random_state=seed)\n",
    "\n",
    "score = np.mean(cross_val_score(model, training_comments, df_targets.any_label, scoring='f1', cv=cv))\n",
    "\n",
    "print(score)\n",
    "\n",
    "print_time(start)"
   ]
  },
  {
   "cell_type": "markdown",
   "metadata": {},
   "source": [
    "0.800512138358\n",
    "Elapsed time was 2:36."
   ]
  },
  {
   "cell_type": "code",
   "execution_count": 25,
   "metadata": {},
   "outputs": [
    {
     "name": "stdout",
     "output_type": "stream",
     "text": [
      "Elapsed time was 3:03.\n",
      "(127656, 30000)\n"
     ]
    },
    {
     "name": "stderr",
     "output_type": "stream",
     "text": [
      "/home/jay/anaconda3/envs/py35/lib/python3.5/site-packages/ipykernel/__main__.py:25: FutureWarning: comparison to `None` will result in an elementwise object comparison in the future.\n"
     ]
    },
    {
     "name": "stdout",
     "output_type": "stream",
     "text": [
      "0.80146407813\n",
      "Elapsed time was 2:48.\n"
     ]
    }
   ],
   "source": [
    "start = time.time()\n",
    "word_vectorizer = TfidfVectorizer(max_features=20000, analyzer='word', ngram_range=(1, 2), \n",
    "                                 stop_words='english')\n",
    "char_vectorizer = TfidfVectorizer(max_features=10000, analyzer='char', ngram_range=(3, 5), \n",
    "                                 stop_words='english')\n",
    "vectorizer = make_union(word_vectorizer, char_vectorizer, n_jobs=-1)\n",
    "training_comments = vectorizer.fit_transform(df.comment_text)\n",
    "print_time(start)\n",
    "print(training_comments.shape)\n",
    "\n",
    "start = time.time()\n",
    "\n",
    "nb_eng = NBFeatures()\n",
    "nb_eng.fit(merge_features(training_comments, df, new_features), df_targets.any_label)\n",
    "training_comments = nb_eng.transform(merge_features(training_comments, df, new_features))\n",
    "\n",
    "model = LinearSVC(random_state=seed)\n",
    "\n",
    "score = np.mean(cross_val_score(model, training_comments, df_targets.any_label, scoring='f1', cv=cv))\n",
    "\n",
    "print(score)\n",
    "\n",
    "print_time(start)"
   ]
  },
  {
   "cell_type": "markdown",
   "metadata": {},
   "source": [
    "0.80146407813\n",
    "Elapsed time was 2:48."
   ]
  },
  {
   "cell_type": "markdown",
   "metadata": {},
   "source": [
    "### Step 2: Optimize NB Feature Weight"
   ]
  },
  {
   "cell_type": "markdown",
   "metadata": {},
   "source": [
    "There appears to be an issue with the consistency of scores here. The variation in training time suggests that the support vector machine algorithm is struggling with a too-large range of input values. Using the the last and best training_comments from the cell above. "
   ]
  },
  {
   "cell_type": "code",
   "execution_count": 72,
   "metadata": {
    "scrolled": false
   },
   "outputs": [
    {
     "name": "stdout",
     "output_type": "stream",
     "text": [
      "Elapsed time was 2:51.\n",
      "(127656, 30000)\n",
      "**********************\n",
      "For epsilon 0.100000\n"
     ]
    },
    {
     "name": "stderr",
     "output_type": "stream",
     "text": [
      "/home/jay/anaconda3/envs/py35/lib/python3.5/site-packages/ipykernel/__main__.py:25: FutureWarning: comparison to `None` will result in an elementwise object comparison in the future.\n"
     ]
    },
    {
     "name": "stdout",
     "output_type": "stream",
     "text": [
      "Epsilon 0.100000 score: 0.7966\n",
      "Elapsed time was 1:03.\n",
      "**********************\n",
      "For epsilon 0.200000\n"
     ]
    },
    {
     "name": "stderr",
     "output_type": "stream",
     "text": [
      "/home/jay/anaconda3/envs/py35/lib/python3.5/site-packages/ipykernel/__main__.py:25: FutureWarning: comparison to `None` will result in an elementwise object comparison in the future.\n"
     ]
    },
    {
     "name": "stdout",
     "output_type": "stream",
     "text": [
      "Epsilon 0.200000 score: 0.7989\n",
      "Elapsed time was 1:05.\n",
      "**********************\n",
      "For epsilon 0.300000\n"
     ]
    },
    {
     "name": "stderr",
     "output_type": "stream",
     "text": [
      "/home/jay/anaconda3/envs/py35/lib/python3.5/site-packages/ipykernel/__main__.py:25: FutureWarning: comparison to `None` will result in an elementwise object comparison in the future.\n"
     ]
    },
    {
     "name": "stdout",
     "output_type": "stream",
     "text": [
      "Epsilon 0.300000 score: 0.8003\n",
      "Elapsed time was 1:08.\n",
      "**********************\n",
      "For epsilon 0.400000\n"
     ]
    },
    {
     "name": "stderr",
     "output_type": "stream",
     "text": [
      "/home/jay/anaconda3/envs/py35/lib/python3.5/site-packages/ipykernel/__main__.py:25: FutureWarning: comparison to `None` will result in an elementwise object comparison in the future.\n"
     ]
    },
    {
     "name": "stdout",
     "output_type": "stream",
     "text": [
      "Epsilon 0.400000 score: 0.8001\n",
      "Elapsed time was 1:17.\n",
      "**********************\n",
      "For epsilon 0.500000\n"
     ]
    },
    {
     "name": "stderr",
     "output_type": "stream",
     "text": [
      "/home/jay/anaconda3/envs/py35/lib/python3.5/site-packages/ipykernel/__main__.py:25: FutureWarning: comparison to `None` will result in an elementwise object comparison in the future.\n"
     ]
    },
    {
     "name": "stdout",
     "output_type": "stream",
     "text": [
      "Epsilon 0.500000 score: 0.8008\n",
      "Elapsed time was 1:28.\n",
      "**********************\n",
      "For epsilon 0.600000\n"
     ]
    },
    {
     "name": "stderr",
     "output_type": "stream",
     "text": [
      "/home/jay/anaconda3/envs/py35/lib/python3.5/site-packages/ipykernel/__main__.py:25: FutureWarning: comparison to `None` will result in an elementwise object comparison in the future.\n"
     ]
    },
    {
     "name": "stdout",
     "output_type": "stream",
     "text": [
      "Epsilon 0.600000 score: 0.8013\n",
      "Elapsed time was 1:47.\n",
      "**********************\n",
      "For epsilon 0.700000\n"
     ]
    },
    {
     "name": "stderr",
     "output_type": "stream",
     "text": [
      "/home/jay/anaconda3/envs/py35/lib/python3.5/site-packages/ipykernel/__main__.py:25: FutureWarning: comparison to `None` will result in an elementwise object comparison in the future.\n"
     ]
    },
    {
     "name": "stdout",
     "output_type": "stream",
     "text": [
      "Epsilon 0.700000 score: 0.8007\n",
      "Elapsed time was 2:06.\n",
      "**********************\n",
      "For epsilon 0.800000\n"
     ]
    },
    {
     "name": "stderr",
     "output_type": "stream",
     "text": [
      "/home/jay/anaconda3/envs/py35/lib/python3.5/site-packages/ipykernel/__main__.py:25: FutureWarning: comparison to `None` will result in an elementwise object comparison in the future.\n"
     ]
    },
    {
     "name": "stdout",
     "output_type": "stream",
     "text": [
      "Epsilon 0.800000 score: 0.8020\n",
      "Elapsed time was 2:19.\n",
      "**********************\n",
      "For epsilon 0.900000\n"
     ]
    },
    {
     "name": "stderr",
     "output_type": "stream",
     "text": [
      "/home/jay/anaconda3/envs/py35/lib/python3.5/site-packages/ipykernel/__main__.py:25: FutureWarning: comparison to `None` will result in an elementwise object comparison in the future.\n"
     ]
    },
    {
     "name": "stdout",
     "output_type": "stream",
     "text": [
      "Epsilon 0.900000 score: 0.8019\n",
      "Elapsed time was 2:36.\n"
     ]
    }
   ],
   "source": [
    "start = time.time()\n",
    "word_vectorizer = TfidfVectorizer(max_features=20000, analyzer='word', ngram_range=(1, 2), \n",
    "                                 stop_words='english')\n",
    "char_vectorizer = TfidfVectorizer(max_features=10000, analyzer='char', ngram_range=(3, 5), \n",
    "                                 stop_words='english')\n",
    "vectorizer = make_union(word_vectorizer, char_vectorizer, n_jobs=-1)\n",
    "training_comments = vectorizer.fit_transform(df.comment_text)\n",
    "print_time(start)\n",
    "print(training_comments.shape)\n",
    "\n",
    "for i in range(1,10):\n",
    "    start = time.time()\n",
    "    sc = StandardScaler(with_mean=False)\n",
    "    epsilon = i/10\n",
    "    print('**********************')\n",
    "    print('For epsilon %f' % epsilon)\n",
    "    nb_temp = NBFeatures(epsilon=epsilon)\n",
    "    nb_temp.fit(merge_features(training_comments, df, new_features), df_targets.any_label)\n",
    "    input_data = nb_temp.transform(merge_features(training_comments, df, new_features))\n",
    "    model = LinearSVC(random_state=seed)\n",
    "    score = np.mean(cross_val_score(model, input_data, df_targets.any_label, scoring='f1', cv=cv))\n",
    "    print('Epsilon %f score: %.4f' % (epsilon, score))\n",
    "    print_time(start)"
   ]
  },
  {
   "cell_type": "markdown",
   "metadata": {},
   "source": [
    "Epsilon 0.100000 score: 0.7966\n",
    "Elapsed time was 1:03.\n",
    "**********************\n",
    "Epsilon 0.200000 score: 0.7989\n",
    "Elapsed time was 1:05.\n",
    "**********************\n",
    "Epsilon 0.300000 score: 0.8003\n",
    "Elapsed time was 1:08.\n",
    "**********************\n",
    "Epsilon 0.400000 score: 0.8001\n",
    "Elapsed time was 1:17.\n",
    "**********************\n",
    "Epsilon 0.500000 score: 0.8008\n",
    "Elapsed time was 1:28.\n",
    "**********************\n",
    "Epsilon 0.600000 score: 0.8013\n",
    "Elapsed time was 1:47.\n",
    "**********************\n",
    "Epsilon 0.700000 score: 0.8007\n",
    "Elapsed time was 2:06.\n",
    "**********************\n",
    "Epsilon 0.800000 score: 0.8020\n",
    "Elapsed time was 2:19.\n",
    "**********************\n",
    "Epsilon 0.900000 score: 0.8019\n",
    "Elapsed time was 2:36.\n"
   ]
  },
  {
   "cell_type": "markdown",
   "metadata": {},
   "source": [
    "### Step 3: SVM Parameter Tuning "
   ]
  },
  {
   "cell_type": "code",
   "execution_count": 36,
   "metadata": {},
   "outputs": [
    {
     "name": "stdout",
     "output_type": "stream",
     "text": [
      "Elapsed time was 2:59.\n",
      "(127656, 30000)\n"
     ]
    },
    {
     "name": "stderr",
     "output_type": "stream",
     "text": [
      "/home/jay/anaconda3/envs/py35/lib/python3.5/site-packages/ipykernel/__main__.py:25: FutureWarning: comparison to `None` will result in an elementwise object comparison in the future.\n"
     ]
    }
   ],
   "source": [
    "start = time.time()\n",
    "word_vectorizer = TfidfVectorizer(max_features=20000, analyzer='word', ngram_range=(1, 2), \n",
    "                                 stop_words='english')\n",
    "char_vectorizer = TfidfVectorizer(max_features=10000, analyzer='char', ngram_range=(3, 5), \n",
    "                                 stop_words='english')\n",
    "vectorizer = make_union(word_vectorizer, char_vectorizer, n_jobs=-1)\n",
    "training_comments = vectorizer.fit_transform(df.comment_text)\n",
    "print_time(start)\n",
    "print(training_comments.shape)\n",
    "\n",
    "# Reset NB feature transformer epsilon value\n",
    "nb_eng = NBFeatures()\n",
    "nb_eng.fit(merge_features(training_comments, df, new_features), df_targets.any_label)\n",
    "input_data = nb_eng.transform(merge_features(training_comments, df, new_features))"
   ]
  },
  {
   "cell_type": "code",
   "execution_count": null,
   "metadata": {},
   "outputs": [],
   "source": []
  },
  {
   "cell_type": "markdown",
   "metadata": {},
   "source": [
    "#### Test Gaussian Kernel"
   ]
  },
  {
   "cell_type": "code",
   "execution_count": null,
   "metadata": {},
   "outputs": [],
   "source": [
    "from sklearn.svm import SVC"
   ]
  },
  {
   "cell_type": "code",
   "execution_count": null,
   "metadata": {},
   "outputs": [],
   "source": [
    "start = time.time()\n",
    "\n",
    "model = SVC(random_state=seed)\n",
    "score = np.mean(cross_val_score(model, training_comments, df_targets.any_label, scoring='f1'))\n",
    "\n",
    "print(score)\n",
    "\n",
    "print_time(start)"
   ]
  },
  {
   "cell_type": "markdown",
   "metadata": {},
   "source": [
    "#### Test C (L2 Penalization Coefficient) "
   ]
  },
  {
   "cell_type": "code",
   "execution_count": 32,
   "metadata": {},
   "outputs": [
    {
     "name": "stdout",
     "output_type": "stream",
     "text": [
      "C: 0\n",
      "0.804947502199\n",
      "Elapsed time was 1:07.\n",
      "C: 0\n",
      "0.805441509001\n",
      "Elapsed time was 1:32.\n",
      "C: 1\n",
      "0.80322039905\n",
      "Elapsed time was 2:15.\n"
     ]
    }
   ],
   "source": [
    "params = [0.3, 0.5, 0.8]\n",
    "\n",
    "for C in params:\n",
    "    print(\"C: %.f\" % C)\n",
    "    start = time.time() \n",
    "    model = LinearSVC(random_state=seed, C=C)\n",
    "    score = np.mean(cross_val_score(model, input_data, df_targets.any_label, scoring='f1', cv=cv))\n",
    "    print(score)\n",
    "    print_time(start)"
   ]
  },
  {
   "cell_type": "markdown",
   "metadata": {},
   "source": [
    "# Model Evaluation "
   ]
  },
  {
   "cell_type": "markdown",
   "metadata": {},
   "source": [
    "### Optimimum Model"
   ]
  },
  {
   "cell_type": "code",
   "execution_count": 21,
   "metadata": {},
   "outputs": [
    {
     "name": "stderr",
     "output_type": "stream",
     "text": [
      "/home/jay/anaconda3/envs/py35/lib/python3.5/site-packages/ipykernel/__main__.py:25: FutureWarning: comparison to `None` will result in an elementwise object comparison in the future.\n"
     ]
    },
    {
     "name": "stdout",
     "output_type": "stream",
     "text": [
      "Elapsed time was 3:29.\n",
      "Elapsed time was 0:19.\n"
     ]
    }
   ],
   "source": [
    "# TF-IDF Vectorization\n",
    "start = time.time()\n",
    "word_vectorizer = TfidfVectorizer(max_features=20000, analyzer='word', ngram_range=(1, 2), \n",
    "                                 stop_words='english')\n",
    "char_vectorizer = TfidfVectorizer(max_features=10000, analyzer='char', ngram_range=(3, 5), \n",
    "                                 stop_words='english')\n",
    "vectorizer = make_union(word_vectorizer, char_vectorizer, n_jobs=-1)\n",
    "\n",
    "# Fit to and transform input data\n",
    "X_train = vectorizer.fit_transform(df.comment_text)\n",
    "X_test = vectorizer.transform(holdout.comment_text)\n",
    "\n",
    "# Name training target data\n",
    "y_train = df_targets.any_label\n",
    "y_test = holdout_targets.any_label\n",
    "\n",
    "# Create and fit NB Feature extractor \n",
    "nb = NBFeatures()\n",
    "nb.fit(X_train, y_train)\n",
    "\n",
    "# Tranform input data\n",
    "X_train = nb.transform(X_train)\n",
    "X_test = nb.transform(X_test)\n",
    "\n",
    "print_time(start)\n",
    "\n",
    "# Define model and fit to data \n",
    "start = time.time()\n",
    "model = LinearSVC(random_state=seed, C=0.5)\n",
    "model.fit(X_train, y_train)\n",
    "\n",
    "print_time(start)"
   ]
  },
  {
   "cell_type": "code",
   "execution_count": 22,
   "metadata": {},
   "outputs": [],
   "source": [
    "y_pred = model.predict(X_test)"
   ]
  },
  {
   "cell_type": "code",
   "execution_count": 23,
   "metadata": {},
   "outputs": [
    {
     "name": "stdout",
     "output_type": "stream",
     "text": [
      "True Positives: 2386\n",
      "False Positives: 282\n",
      "True Negatives: 28389\n",
      "False Negatives: 858\n",
      "Precision: 0.8943\n",
      "Recall: 0.7355\n",
      "F1 Score: 0.8072\n",
      "Total Accuracy: 0.96%\n"
     ]
    }
   ],
   "source": [
    "tn, fp, fn, tp = confusion_matrix(y_test, y_pred).ravel()\n",
    "\n",
    "acc = (tp+tn)/(tn+fn+tp+fp)\n",
    "print(\"True Positives: %d\" % tp)\n",
    "print(\"False Positives: %d\" % fp)\n",
    "print(\"True Negatives: %d\" % tn)\n",
    "print(\"False Negatives: %d\" % fn)\n",
    "print(\"Precision: %.4f\" % (tp/(tp+fp)))\n",
    "print(\"Recall: %.4f\" % (tp/(tp+fn)))\n",
    "print(\"F1 Score: %.4f\" % f1_score(y_test, y_pred))\n",
    "print(\"Total Accuracy: %.2f%%\" % acc)"
   ]
  },
  {
   "cell_type": "code",
   "execution_count": 24,
   "metadata": {},
   "outputs": [
    {
     "data": {
      "image/png": "[encoded data removed]",
      "text/plain": [
       "<Figure size 720x720 with 1 Axes>"
      ]
     },
     "metadata": {},
     "output_type": "display_data"
    }
   ],
   "source": [
    "cm = confusion_matrix(y_test, y_pred)\n",
    "def cm_heatmap(arr, title):\n",
    "    \"\"\"Internal. Only called by scoring function.\"\"\"\n",
    "    plt.figure('cm_heatmap', figsize=(10,10))\n",
    "    plt.title(title + ' confusion matrix')\n",
    "    sns.heatmap(arr, square=True, annot=True, cmap='YlOrRd', fmt='g', cbar=False)\n",
    "    plt.xlabel(\"Truth\")\n",
    "    plt.ylabel(\"Prediction\")\n",
    "    #sns.set(font_scale=3)\n",
    "    plt.show()\n",
    "cm_heatmap(cm, \"Toxic Comments\")"
   ]
  },
  {
   "cell_type": "code",
   "execution_count": null,
   "metadata": {},
   "outputs": [],
   "source": []
  },
  {
   "cell_type": "code",
   "execution_count": null,
   "metadata": {},
   "outputs": [],
   "source": []
  },
  {
   "cell_type": "code",
   "execution_count": null,
   "metadata": {},
   "outputs": [],
   "source": []
  }
 ],
 "metadata": {
  "accelerator": "GPU",
  "colab": {
   "collapsed_sections": [
    "kaYNMVqj5yxo",
    "yH8NDq2D5yx9",
    "jxMujLal5yyN",
    "KmQxwcqp5yyu",
    "_A0tzkGe5yyz",
    "41hcbO6m5yy8",
    "qZU1wqtf5yy9",
    "WPNxOBNp5yzJ",
    "QeJWnVa15yzZ",
    "ZSCnkLiC5y0A",
    "krzeQWNb5y0h",
    "X7Yxshbs5y02",
    "1O2erv3G5y07",
    "lw2pO8mo5y0-",
    "aCDEfw7h5y1F",
    "VJj2r6ky5y1O",
    "5yiO9G4V5y1U",
    "c_NzviMo5y1t",
    "fVAFqZCz5y2P",
    "6dEs1c0H5y2r"
   ],
   "default_view": {},
   "name": "ToxicComments.ipynb",
   "provenance": [],
   "version": "0.3.2",
   "views": {}
  },
  "kernelspec": {
   "display_name": "Python [conda env:py35]",
   "language": "python",
   "name": "conda-env-py35-py"
  },
  "language_info": {
   "codemirror_mode": {
    "name": "ipython",
    "version": 3
   },
   "file_extension": ".py",
   "mimetype": "text/x-python",
   "name": "python",
   "nbconvert_exporter": "python",
   "pygments_lexer": "ipython3",
   "version": "3.5.5"
  }
 },
 "nbformat": 4,
 "nbformat_minor": 1
}
